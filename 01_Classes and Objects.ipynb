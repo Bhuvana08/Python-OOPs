{
 "cells": [
  {
   "cell_type": "markdown",
   "id": "26106ad9",
   "metadata": {},
   "source": [
    "### Define a class"
   ]
  },
  {
   "cell_type": "code",
   "execution_count": 2,
   "id": "ea3657fe",
   "metadata": {},
   "outputs": [],
   "source": [
    "#A class is a blueprint for object\n",
    "\n",
    "class Person:\n",
    "    def __init__(self,name,sex,profession):\n",
    "        #data memebers(instance variables)\n",
    "        self.name = name\n",
    "        self.sex = sex\n",
    "        self.profession = profession\n",
    "        \n",
    "    #Behavior(instance methods)\n",
    "    def show(self):\n",
    "        print(f\"Name: {self.name}, Sex: {self.sex}, Profession: {self.profession}.\")\n",
    "    def work(self):\n",
    "        print(f\"{self.name}, working as a, {self.profession}.\")\n",
    "      "
   ]
  },
  {
   "cell_type": "markdown",
   "id": "8221ba0a",
   "metadata": {},
   "source": [
    "### Creating an object"
   ]
  },
  {
   "cell_type": "code",
   "execution_count": 3,
   "id": "4891810d",
   "metadata": {},
   "outputs": [
    {
     "name": "stdout",
     "output_type": "stream",
     "text": [
      "Name: Kiara, Sex: Female, Profession: Actress.\n",
      "Kiara, working as a, Actress.\n"
     ]
    }
   ],
   "source": [
    "#An object is an instance of the class\n",
    "\n",
    "\n",
    "#create object of class\n",
    "kiara = Person(\"Kiara\",\"Female\",\"Actress\")\n",
    "\n",
    "#call methods\n",
    "kiara.show()\n",
    "kiara.work()"
   ]
  },
  {
   "cell_type": "markdown",
   "id": "14c0e37f",
   "metadata": {},
   "source": [
    "### Class Attributes"
   ]
  },
  {
   "cell_type": "markdown",
   "id": "3c3029b7",
   "metadata": {},
   "source": [
    "Instance variables:\n",
    "\n",
    "    The instance variables are attributes attached to an instance of a class. We define instance variables in the constructor ( the __init__() method of a class).\n",
    "\n",
    "Class Variables:\n",
    "\n",
    "    A class variable is a variable that is declared inside of class, but outside of any instance method or __init__() method."
   ]
  },
  {
   "cell_type": "markdown",
   "id": "8854b9b9",
   "metadata": {},
   "source": [
    "![alternatvie text](https://pynative.com/wp-content/uploads/2021/08/class_attributes_in_python.jpg)"
   ]
  },
  {
   "cell_type": "code",
   "execution_count": 4,
   "id": "55c26d08",
   "metadata": {},
   "outputs": [
    {
     "name": "stdout",
     "output_type": "stream",
     "text": [
      "Student: Harry, 12\n",
      "School Name: ABC School\n",
      "Student: Jessy, 14\n",
      "School Name: XYZ School\n"
     ]
    }
   ],
   "source": [
    "class Student:\n",
    "    #class variables\n",
    "    school_name = \"ABC School\"\n",
    "    \n",
    "    #constructor\n",
    "    def __init__(self,name,age):\n",
    "        #instance variables\n",
    "        self.name = name\n",
    "        self.age = age\n",
    "        \n",
    "s1 = Student(\"Harry\",12)\n",
    "#access instance variables\n",
    "print(f\"Student: {s1.name}, {s1.age}\")\n",
    "\n",
    "#access class variable\n",
    "print(f\"School Name: {Student.school_name}\")\n",
    "\n",
    "#Modify instance variables\n",
    "s1.name = \"Jessy\"\n",
    "s1.age = 14\n",
    "print(f\"Student: {s1.name}, {s1.age}\")\n",
    "\n",
    "\n",
    "#modify instance variables\n",
    "Student.school_name = \"XYZ School\"\n",
    "print(f\"School Name: {Student.school_name}\")\n"
   ]
  },
  {
   "cell_type": "markdown",
   "id": "f2bceb22",
   "metadata": {},
   "source": [
    "## Class Methods"
   ]
  },
  {
   "cell_type": "raw",
   "id": "0c3f54af",
   "metadata": {},
   "source": [
    "Instance method: \n",
    "\n",
    "          Used to access or modify the object state. If we use instance variables inside a method, such methods are called instance methods.\n",
    "\n",
    "\n",
    "Class method:\n",
    "\n",
    "            Used to access or modify the class state. In method implementation, if we use only class variables, then such type of methods we should declare as a class method.\n",
    "\n",
    "\n",
    "Static method: \n",
    "\n",
    "            It is a general utility method that performs a task in isolation. Inside this method, we don’t use instance or class variable because this static method doesn’t have access to the class attributes."
   ]
  },
  {
   "cell_type": "code",
   "execution_count": 6,
   "id": "a1e90a14",
   "metadata": {},
   "outputs": [
    {
     "name": "stdout",
     "output_type": "stream",
     "text": [
      "Student: Harry, 12, ABC School\n",
      "Student: Harry, 14, XYZ School\n"
     ]
    }
   ],
   "source": [
    "class Student:\n",
    "    #class variables\n",
    "    school_name = \"ABC School\"\n",
    "    \n",
    "    #constructor\n",
    "    def __init__(self,name,age):\n",
    "        #instance variables\n",
    "        self.name = name\n",
    "        self.age = age\n",
    "        \n",
    "    #instance method\n",
    "    def show(self):\n",
    "        print(f\"Student: {self.name}, {self.age}, {Student.school_name}\")\n",
    "        \n",
    "    def change_age(self,new_age):\n",
    "        self.age = new_age\n",
    "        \n",
    "    #class method\n",
    "    @classmethod\n",
    "    def  modify_school_name(cls,new_name):\n",
    "        cls.school_name = new_name\n",
    "   \n",
    "\n",
    "s1 = Student(\"Harry\", 12)\n",
    "\n",
    "# call instance methods\n",
    "s1.show()\n",
    "s1.change_age(14)\n",
    "\n",
    "# call class method\n",
    "Student.modify_school_name('XYZ School')\n",
    "# call instance methods\n",
    "s1.show()\n",
    "    "
   ]
  },
  {
   "cell_type": "code",
   "execution_count": 7,
   "id": "283518d2",
   "metadata": {},
   "outputs": [
    {
     "name": "stdout",
     "output_type": "stream",
     "text": [
      "8\n",
      "24\n"
     ]
    }
   ],
   "source": [
    "class MathUtils:\n",
    "    \n",
    "    @staticmethod\n",
    "    def add(a, b):\n",
    "        return a + b\n",
    "        \n",
    "    @staticmethod\n",
    "    def multiply(a, b):\n",
    "        return a * b\n",
    "        \n",
    "result_sum = MathUtils.add(5, 3)\n",
    "result_product = MathUtils.multiply(4, 6)\n",
    "\n",
    "print(result_sum)      # Output: 8\n",
    "print(result_product)  # Output: 24\n"
   ]
  },
  {
   "cell_type": "code",
   "execution_count": 8,
   "id": "16355117",
   "metadata": {},
   "outputs": [],
   "source": [
    "#Static methods cannot access or modify instance-specific attributes, class-level attributes, or methods.\n",
    "#Static methods are commonly used for utility functions related to the class, but which don't need to access any instance or class data. "
   ]
  },
  {
   "cell_type": "markdown",
   "id": "5a82c0eb",
   "metadata": {},
   "source": [
    "### Deleting object properties"
   ]
  },
  {
   "cell_type": "code",
   "execution_count": 9,
   "id": "2ecc88f9",
   "metadata": {},
   "outputs": [
    {
     "ename": "AttributeError",
     "evalue": "'Fruit' object has no attribute 'name'",
     "output_type": "error",
     "traceback": [
      "\u001b[1;31m---------------------------------------------------------------------------\u001b[0m",
      "\u001b[1;31mAttributeError\u001b[0m                            Traceback (most recent call last)",
      "\u001b[1;32m<ipython-input-9-d5a574487521>\u001b[0m in \u001b[0;36m<module>\u001b[1;34m\u001b[0m\n\u001b[0;32m     14\u001b[0m \u001b[1;33m\u001b[0m\u001b[0m\n\u001b[0;32m     15\u001b[0m \u001b[1;31m# Accessing object properties after deleting\u001b[0m\u001b[1;33m\u001b[0m\u001b[1;33m\u001b[0m\u001b[1;33m\u001b[0m\u001b[0m\n\u001b[1;32m---> 16\u001b[1;33m \u001b[0mprint\u001b[0m\u001b[1;33m(\u001b[0m\u001b[0mobj\u001b[0m\u001b[1;33m.\u001b[0m\u001b[0mname\u001b[0m\u001b[1;33m)\u001b[0m\u001b[1;33m\u001b[0m\u001b[1;33m\u001b[0m\u001b[0m\n\u001b[0m\u001b[0;32m     17\u001b[0m \u001b[1;31m# Output: AttributeError: 'Fruit' object has no attribute 'name'\u001b[0m\u001b[1;33m\u001b[0m\u001b[1;33m\u001b[0m\u001b[1;33m\u001b[0m\u001b[0m\n",
      "\u001b[1;31mAttributeError\u001b[0m: 'Fruit' object has no attribute 'name'"
     ]
    }
   ],
   "source": [
    "class Fruit:\n",
    "    def __init__(self, name, color):\n",
    "        self.name = name\n",
    "        self.color = color\n",
    "\n",
    "    def show(self):\n",
    "        print(\"Fruit is\", self.name, \"and Color is\", self.color)\n",
    "\n",
    "# creating object of the class\n",
    "obj = Fruit(\"Apple\", \"red\")\n",
    "\n",
    "# Deleting Object Properties\n",
    "del obj.name\n",
    "\n",
    "# Accessing object properties after deleting\n",
    "print(obj.name)\n",
    "# Output: AttributeError: 'Fruit' object has no attribute 'name'"
   ]
  },
  {
   "cell_type": "markdown",
   "id": "a9fe9159",
   "metadata": {},
   "source": [
    "### Delete Objects"
   ]
  },
  {
   "cell_type": "code",
   "execution_count": 10,
   "id": "097937bc",
   "metadata": {},
   "outputs": [
    {
     "name": "stdout",
     "output_type": "stream",
     "text": [
      "Department is  IT\n"
     ]
    },
    {
     "ename": "NameError",
     "evalue": "name 'emp' is not defined",
     "output_type": "error",
     "traceback": [
      "\u001b[1;31m---------------------------------------------------------------------------\u001b[0m",
      "\u001b[1;31mNameError\u001b[0m                                 Traceback (most recent call last)",
      "\u001b[1;32m<ipython-input-10-933f2715a9fd>\u001b[0m in \u001b[0;36m<module>\u001b[1;34m\u001b[0m\n\u001b[0;32m     12\u001b[0m \u001b[1;33m\u001b[0m\u001b[0m\n\u001b[0;32m     13\u001b[0m \u001b[1;31m# Accessing after delete object\u001b[0m\u001b[1;33m\u001b[0m\u001b[1;33m\u001b[0m\u001b[1;33m\u001b[0m\u001b[0m\n\u001b[1;32m---> 14\u001b[1;33m \u001b[0memp\u001b[0m\u001b[1;33m.\u001b[0m\u001b[0mshow\u001b[0m\u001b[1;33m(\u001b[0m\u001b[1;33m)\u001b[0m\u001b[1;33m\u001b[0m\u001b[1;33m\u001b[0m\u001b[0m\n\u001b[0m\u001b[0;32m     15\u001b[0m \u001b[1;31m# Output : NameError: name 'emp' is not defined\u001b[0m\u001b[1;33m\u001b[0m\u001b[1;33m\u001b[0m\u001b[1;33m\u001b[0m\u001b[0m\n",
      "\u001b[1;31mNameError\u001b[0m: name 'emp' is not defined"
     ]
    }
   ],
   "source": [
    "class Employee:\n",
    "    depatment = \"IT\"\n",
    "\n",
    "    def show(self):\n",
    "        print(\"Department is \", self.depatment)\n",
    "\n",
    "emp = Employee()\n",
    "emp.show()\n",
    "\n",
    "# delete object\n",
    "del emp\n",
    "\n",
    "# Accessing after delete object\n",
    "emp.show()\n",
    "# Output : NameError: name 'emp' is not defined "
   ]
  },
  {
   "cell_type": "code",
   "execution_count": null,
   "id": "e02df79e",
   "metadata": {},
   "outputs": [],
   "source": []
  }
 ],
 "metadata": {
  "kernelspec": {
   "display_name": "Python 3",
   "language": "python",
   "name": "python3"
  },
  "language_info": {
   "codemirror_mode": {
    "name": "ipython",
    "version": 3
   },
   "file_extension": ".py",
   "mimetype": "text/x-python",
   "name": "python",
   "nbconvert_exporter": "python",
   "pygments_lexer": "ipython3",
   "version": "3.8.8"
  }
 },
 "nbformat": 4,
 "nbformat_minor": 5
}
