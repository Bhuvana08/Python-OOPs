{
 "cells": [
  {
   "cell_type": "markdown",
   "id": "6c312dfe",
   "metadata": {},
   "source": [
    "The process of inheriting properties and methods of parent class is called inheritance"
   ]
  },
  {
   "cell_type": "markdown",
   "id": "6cedc8ba",
   "metadata": {},
   "source": [
    "## 1.Single Inheritance"
   ]
  },
  {
   "cell_type": "code",
   "execution_count": 2,
   "id": "4790bc9e",
   "metadata": {},
   "outputs": [
    {
     "name": "stdout",
     "output_type": "stream",
     "text": [
      "Inside Vehicle class\n",
      "Inside Car class\n"
     ]
    }
   ],
   "source": [
    "#A child class inherits from single parent class\n",
    "\n",
    "\n",
    "class Vehicle:\n",
    "    def Vehicle_info(self):\n",
    "        print(\"Inside Vehicle class\")\n",
    "class Car(Vehicle):\n",
    "    def car_info(self):\n",
    "        print(\"Inside Car class\")\n",
    "        \n",
    "car = Car()\n",
    "car.Vehicle_info()\n",
    "car.car_info()"
   ]
  },
  {
   "cell_type": "markdown",
   "id": "7e4e3b3b",
   "metadata": {},
   "source": [
    "## 2.Multiple Inheritance"
   ]
  },
  {
   "cell_type": "code",
   "execution_count": 2,
   "id": "ed44b5af",
   "metadata": {},
   "outputs": [
    {
     "name": "stdout",
     "output_type": "stream",
     "text": [
      "Inside Person class\n",
      "Name:Tim, Age:25\n",
      "Insidecompany class\n",
      "Name: Google location: Atlanta\n",
      "Inside Employee class\n",
      "Salary: 12000 Skill: Machine Learning\n"
     ]
    }
   ],
   "source": [
    "#One child class can inherit from multiple parent class\n",
    "\n",
    "\n",
    "# Parent class 1\n",
    "class Person:\n",
    "    def person_info(self,name,age):\n",
    "        print(\"Inside Person class\")\n",
    "        print(f\"Name:{name}, Age:{age}\")\n",
    "        \n",
    "#Parent class 2\n",
    "class Company:\n",
    "    def company_info(self,company_name,location):\n",
    "        print(\"Insidecompany class\")\n",
    "        print('Name:', company_name, 'location:', location)\n",
    "        \n",
    "#child class\n",
    "class Employee(Person,Company):\n",
    "    def Employee_info(self, salary, skill):\n",
    "        print('Inside Employee class')\n",
    "        print('Salary:', salary, 'Skill:', skill)\n",
    "\n",
    "        \n",
    "emp = Employee()\n",
    "emp.person_info(\"Tim\",25)\n",
    "emp.company_info(\"Google\",\"Atlanta\")\n",
    "emp.Employee_info(12000,\"Machine Learning\")"
   ]
  },
  {
   "cell_type": "markdown",
   "id": "af01eb0a",
   "metadata": {},
   "source": [
    "## 3.Multilevel Inheritance"
   ]
  },
  {
   "cell_type": "raw",
   "id": "7e128f37",
   "metadata": {},
   "source": [
    "In multilevel inheritance, a class inherits from a child class or derived class.\n",
    "\n",
    "Suppose A,B,C are three classes, A is the superclass, B is the child class of A, C is the child class of B.\n",
    "\n",
    "Chain of classes is called multilevel inheritance"
   ]
  },
  {
   "cell_type": "code",
   "execution_count": 3,
   "id": "2a7bc4f8",
   "metadata": {},
   "outputs": [
    {
     "name": "stdout",
     "output_type": "stream",
     "text": [
      "Inside Vehicle class\n",
      "Inside Car class\n",
      "Inside SportsCar class\n"
     ]
    }
   ],
   "source": [
    "# Base class\n",
    "class Vehicle:\n",
    "    def Vehicle_info(self):\n",
    "        print('Inside Vehicle class')\n",
    "\n",
    "# Child class\n",
    "class Car(Vehicle):\n",
    "    def car_info(self):\n",
    "        print('Inside Car class')\n",
    "\n",
    "# Child class\n",
    "class SportsCar(Car):\n",
    "    def sports_car_info(self):\n",
    "        print('Inside SportsCar class')\n",
    "\n",
    "# Create object of SportsCar\n",
    "s_car = SportsCar()\n",
    "\n",
    "# access Vehicle's and Car info using SportsCar object\n",
    "s_car.Vehicle_info()\n",
    "s_car.car_info()\n",
    "s_car.sports_car_info()\n"
   ]
  },
  {
   "cell_type": "markdown",
   "id": "ec0fba1f",
   "metadata": {},
   "source": [
    "## 4.Hierarchical Inheritance"
   ]
  },
  {
   "cell_type": "raw",
   "id": "68775c42",
   "metadata": {},
   "source": [
    "In Hierarchical inheritance, more than one child class is derived from a single parent class.\n",
    "\n",
    "In other words, we can say one parent class and multiple child classes"
   ]
  },
  {
   "cell_type": "code",
   "execution_count": 5,
   "id": "f15e89cb",
   "metadata": {},
   "outputs": [
    {
     "name": "stdout",
     "output_type": "stream",
     "text": [
      "This is Vehicle\n",
      "Car name is: BMW\n",
      "This is Vehicle\n",
      "Truck name is: Ford\n"
     ]
    }
   ],
   "source": [
    "class Vehicle:\n",
    "    def info(self):\n",
    "        print(\"This is Vehicle\")\n",
    "\n",
    "class Car(Vehicle):\n",
    "    def car_info(self, name):\n",
    "        print(\"Car name is:\", name)\n",
    "\n",
    "class Truck(Vehicle):\n",
    "    def truck_info(self, name):\n",
    "        print(\"Truck name is:\", name)\n",
    "\n",
    "obj1 = Car()\n",
    "obj1.info()\n",
    "obj1.car_info('BMW')\n",
    "\n",
    "obj2 = Truck()\n",
    "obj2.info()\n",
    "obj2.truck_info('Ford')"
   ]
  },
  {
   "cell_type": "markdown",
   "id": "e24f8fc6",
   "metadata": {},
   "source": [
    "## 5.Hybrid Inheritance"
   ]
  },
  {
   "cell_type": "raw",
   "id": "1ec192cf",
   "metadata": {},
   "source": [
    "When inheritance is consists of multiple types or a combination of different inheritance is called hybrid inheritance."
   ]
  },
  {
   "cell_type": "code",
   "execution_count": 7,
   "id": "993ac1a2",
   "metadata": {},
   "outputs": [
    {
     "name": "stdout",
     "output_type": "stream",
     "text": [
      "Inside Vehicle class\n",
      "Inside Car class\n",
      "Inside SportsCar class\n"
     ]
    }
   ],
   "source": [
    "class Vehicle:\n",
    "    def vehicle_info(self):\n",
    "        print(\"Inside Vehicle class\")\n",
    "\n",
    "class Car(Vehicle):\n",
    "    def car_info(self):\n",
    "        print(\"Inside Car class\")\n",
    "\n",
    "class Truck(Vehicle):\n",
    "    def truck_info(self):\n",
    "        print(\"Inside Truck class\")\n",
    "\n",
    "# Sports Car can inherits properties of Vehicle and Car\n",
    "class SportsCar(Car, Vehicle):\n",
    "    def sports_car_info(self):\n",
    "        print(\"Inside SportsCar class\")\n",
    "\n",
    "# create object\n",
    "s_car = SportsCar()\n",
    "\n",
    "s_car.vehicle_info()\n",
    "s_car.car_info()\n",
    "s_car.sports_car_info()\n",
    "\n",
    "\n",
    "\n",
    "#In the above hierarchical and multiple inheritance exists"
   ]
  },
  {
   "cell_type": "markdown",
   "id": "05c2c8ad",
   "metadata": {},
   "source": [
    "## super() function"
   ]
  },
  {
   "cell_type": "raw",
   "id": "86265f9b",
   "metadata": {},
   "source": [
    "In child class, we can refer to parent class by using the super() function. The super function returns a temporary object of the parent class that allows us to call a parent class method inside a child class method."
   ]
  },
  {
   "cell_type": "code",
   "execution_count": 8,
   "id": "5707b1fa",
   "metadata": {},
   "outputs": [
    {
     "name": "stdout",
     "output_type": "stream",
     "text": [
      "Jessa works at Google\n"
     ]
    }
   ],
   "source": [
    "class Company:\n",
    "    def company_name(self):\n",
    "        return 'Google'\n",
    "\n",
    "class Employee(Company):\n",
    "    def info(self):\n",
    "        # Calling the superclass method using super()function\n",
    "        c_name = super().company_name()\n",
    "        print(\"Jessa works at\", c_name)\n",
    "\n",
    "# Creating object of child class\n",
    "emp = Employee()\n",
    "emp.info()"
   ]
  },
  {
   "cell_type": "markdown",
   "id": "39bc9a7a",
   "metadata": {},
   "source": [
    "## Method Overriding"
   ]
  },
  {
   "cell_type": "raw",
   "id": "844e4b57",
   "metadata": {},
   "source": [
    "When a child class method has the same name, same parameters, and same return type as a method in its superclass, then the method in the child is said to override the method in the parent class."
   ]
  },
  {
   "cell_type": "code",
   "execution_count": 9,
   "id": "e864f544",
   "metadata": {},
   "outputs": [
    {
     "name": "stdout",
     "output_type": "stream",
     "text": [
      "max speed is 200 Km/Hour\n"
     ]
    }
   ],
   "source": [
    "class Vehicle:\n",
    "    def max_speed(self):\n",
    "        print(\"max speed is 100 Km/Hour\")\n",
    "\n",
    "class Car(Vehicle):\n",
    "    # overridden the implementation of Vehicle class\n",
    "    def max_speed(self):\n",
    "        print(\"max speed is 200 Km/Hour\")\n",
    "\n",
    "# Creating object of Car class\n",
    "car = Car()\n",
    "car.max_speed()"
   ]
  },
  {
   "cell_type": "code",
   "execution_count": null,
   "id": "535410d8",
   "metadata": {},
   "outputs": [],
   "source": []
  }
 ],
 "metadata": {
  "kernelspec": {
   "display_name": "Python 3",
   "language": "python",
   "name": "python3"
  },
  "language_info": {
   "codemirror_mode": {
    "name": "ipython",
    "version": 3
   },
   "file_extension": ".py",
   "mimetype": "text/x-python",
   "name": "python",
   "nbconvert_exporter": "python",
   "pygments_lexer": "ipython3",
   "version": "3.8.8"
  }
 },
 "nbformat": 4,
 "nbformat_minor": 5
}
