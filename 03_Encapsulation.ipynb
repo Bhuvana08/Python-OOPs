{
 "cells": [
  {
   "cell_type": "code",
   "execution_count": 1,
   "id": "47c66ceb",
   "metadata": {},
   "outputs": [],
   "source": [
    "# Budling data and methods within a single unit is called encapsulation\n",
    "\n",
    "# A class is an example of encapsulation as it binds all data members and methods into a single unit"
   ]
  },
  {
   "cell_type": "code",
   "execution_count": 3,
   "id": "c41a3ddc",
   "metadata": {},
   "outputs": [
    {
     "name": "stdout",
     "output_type": "stream",
     "text": [
      "Name: Charishma, Salary: 150000\n",
      "Charishma is working on Web Development.\n"
     ]
    }
   ],
   "source": [
    "class Employee:\n",
    "    def __init__(self,name,salary,project):\n",
    "        self.name = name\n",
    "        self.salary = salary\n",
    "        self.project = project\n",
    "        \n",
    "    def work(self):\n",
    "        print(f\"{self.name} is working on {self.project}.\")\n",
    "        \n",
    "    def show(self):\n",
    "        print(f\"Name: {self.name}, Salary: {self.salary}\")\n",
    "        \n",
    "        \n",
    "emp = Employee(\"Charishma\",150000,\"Web Development\")\n",
    "emp.show()\n",
    "emp.work()"
   ]
  },
  {
   "cell_type": "code",
   "execution_count": 4,
   "id": "62846dbf",
   "metadata": {},
   "outputs": [],
   "source": [
    "#Encapsulation is a way to can restrict access to methods and variables from outside of class.\n",
    "\n",
    "#Encapsulation offers a way for us to access the required variable without providing the program full-fledged access to all variables of a class. \n",
    "#This mechanism is used to protect the data of an object from other objects."
   ]
  },
  {
   "cell_type": "markdown",
   "id": "4398832e",
   "metadata": {},
   "source": [
    "### Access Modifiers"
   ]
  },
  {
   "cell_type": "raw",
   "id": "bbd28a93",
   "metadata": {},
   "source": [
    "Access modifiers limit access to the variables and methods of a class.\n",
    "\n",
    "Public Member: Accessible anywhere from outside oclass.\n",
    "Private Member: Accessible within the class\n",
    "Protected Member: Accessible within the class and its sub-classes"
   ]
  },
  {
   "cell_type": "code",
   "execution_count": 1,
   "id": "b6913f13",
   "metadata": {},
   "outputs": [],
   "source": [
    "#By default variables and methods are default"
   ]
  },
  {
   "cell_type": "markdown",
   "id": "7ff3373d",
   "metadata": {},
   "source": [
    "#### Private Member"
   ]
  },
  {
   "cell_type": "code",
   "execution_count": 2,
   "id": "cdcab013",
   "metadata": {},
   "outputs": [
    {
     "ename": "AttributeError",
     "evalue": "'Employee' object has no attribute '__salary'",
     "output_type": "error",
     "traceback": [
      "\u001b[1;31m---------------------------------------------------------------------------\u001b[0m",
      "\u001b[1;31mAttributeError\u001b[0m                            Traceback (most recent call last)",
      "\u001b[1;32m<ipython-input-2-7fb4407fb2e2>\u001b[0m in \u001b[0;36m<module>\u001b[1;34m\u001b[0m\n\u001b[0;32m     14\u001b[0m \u001b[1;33m\u001b[0m\u001b[0m\n\u001b[0;32m     15\u001b[0m \u001b[1;31m# accessing private data members\u001b[0m\u001b[1;33m\u001b[0m\u001b[1;33m\u001b[0m\u001b[1;33m\u001b[0m\u001b[0m\n\u001b[1;32m---> 16\u001b[1;33m \u001b[0mprint\u001b[0m\u001b[1;33m(\u001b[0m\u001b[1;34m'Salary:'\u001b[0m\u001b[1;33m,\u001b[0m \u001b[0memp\u001b[0m\u001b[1;33m.\u001b[0m\u001b[0m__salary\u001b[0m\u001b[1;33m)\u001b[0m\u001b[1;33m\u001b[0m\u001b[1;33m\u001b[0m\u001b[0m\n\u001b[0m",
      "\u001b[1;31mAttributeError\u001b[0m: 'Employee' object has no attribute '__salary'"
     ]
    }
   ],
   "source": [
    "class Employee:\n",
    "    \n",
    "    # constructor\n",
    "    def __init__(self, name, salary):\n",
    "        \n",
    "        # public data member\n",
    "        self.name = name\n",
    "        \n",
    "        # private member\n",
    "        self.__salary = salary\n",
    "\n",
    "# creating object of a class\n",
    "emp = Employee('Jessa', 10000)\n",
    "\n",
    "# accessing private data members\n",
    "print('Salary:', emp.__salary)"
   ]
  },
  {
   "cell_type": "code",
   "execution_count": 3,
   "id": "0b806cae",
   "metadata": {},
   "outputs": [],
   "source": [
    "#In the above code salary is a private member.So it cannot be accessed from outside the class\n",
    "\n",
    "#We can access the private variable outside the class by creating a public method to access private members."
   ]
  },
  {
   "cell_type": "code",
   "execution_count": 5,
   "id": "2bb2b7ad",
   "metadata": {},
   "outputs": [
    {
     "name": "stdout",
     "output_type": "stream",
     "text": [
      "Name: Jessa, Salary: 12000.\n"
     ]
    }
   ],
   "source": [
    "class Employee:\n",
    "    def __init__(self,name,salary):\n",
    "        self.name = name\n",
    "        self.__salary = salary\n",
    "        \n",
    "    def show(self):\n",
    "        print(f\"Name: {self.name}, Salary: {self.__salary}.\")\n",
    "        \n",
    "emp = Employee(\"Jessa\",12000)\n",
    "emp.show()"
   ]
  },
  {
   "cell_type": "markdown",
   "id": "cea2af50",
   "metadata": {},
   "source": [
    "#### Protected Member"
   ]
  },
  {
   "cell_type": "code",
   "execution_count": 10,
   "id": "49dc3371",
   "metadata": {},
   "outputs": [
    {
     "name": "stdout",
     "output_type": "stream",
     "text": [
      "Bill, working on a project NLP\n"
     ]
    }
   ],
   "source": [
    "#Protected members are accessible within class and sub-class\n",
    "\n",
    "\n",
    "\n",
    "class Company:\n",
    "    def __init__(self):\n",
    "        self._project = \"NLP\"\n",
    "        \n",
    "class Employee(Company):\n",
    "    def __init__(self,name):\n",
    "        self.name = name\n",
    "        Company.__init__(self)\n",
    "        \n",
    "    def show(self):\n",
    "        print(f\"{self.name}, working on a project {self._project}\")\n",
    "        \n",
    "c = Employee(\"Bill\")\n",
    "c.show()"
   ]
  },
  {
   "cell_type": "markdown",
   "id": "90a17595",
   "metadata": {},
   "source": [
    "### Getters and Setters in Python"
   ]
  },
  {
   "cell_type": "raw",
   "id": "0a20edba",
   "metadata": {},
   "source": [
    "The primary purpose of using getters and setters in object-oriented programs is to ensure data encapsulation.\n",
    "\n",
    "Use the getter method to access data members and the setter methods to modify the data members.\n",
    "\n",
    "\n",
    "In Python, private variables are not hidden fields like in other programming languages. The getters and setters methods are often used when:\n",
    "\n",
    "1.When we want to avoid direct access to private variables\n",
    "2.To add validation logic for setting a value\n"
   ]
  },
  {
   "cell_type": "code",
   "execution_count": 12,
   "id": "b0f12c68",
   "metadata": {},
   "outputs": [
    {
     "name": "stdout",
     "output_type": "stream",
     "text": [
      "22\n",
      "17\n"
     ]
    }
   ],
   "source": [
    "\n",
    "# To avoid direct access to private variables\n",
    "\n",
    "\n",
    "\n",
    "class Student:\n",
    "    def __init__(self,name,age):\n",
    "        self.name = name\n",
    "        self.__age = age\n",
    "        \n",
    "    #getter method\n",
    "    def get_age(self):\n",
    "        return self.__age\n",
    "    \n",
    "    #setter method\n",
    "    def set_age(self,age):\n",
    "        self.__age = age\n",
    "        \n",
    "s = Student(\"Mallika\",22)\n",
    "print(s.get_age())\n",
    "s.set_age(17)\n",
    "print(s.get_age())"
   ]
  },
  {
   "cell_type": "code",
   "execution_count": 14,
   "id": "f0fd2949",
   "metadata": {},
   "outputs": [
    {
     "name": "stdout",
     "output_type": "stream",
     "text": [
      "Student Details : , Lucy, 10\n",
      "Invalid roll no. Please set correct roll number.\n",
      "Student Details : , Lucy, 25\n"
     ]
    }
   ],
   "source": [
    "   \n",
    "# Information Hiding and conditional logic for setting an object attributes\n",
    "    \n",
    "    \n",
    "class Student:\n",
    "    def __init__(self,name,roll_no,age):\n",
    "        self.name = name\n",
    "        self.__roll_no = roll_no\n",
    "        self.__age = age\n",
    "        \n",
    "    def show(self):\n",
    "        print(f\"Student Details : , {self.name}, {self.__roll_no}\")\n",
    "        \n",
    "    #getter method\n",
    "    def get_roll_no(self):\n",
    "        return self.__roll_no\n",
    "    \n",
    "    #setter method to modify data\n",
    "    #modify data based on condition\n",
    "    def set_roll_no(self,number):\n",
    "        if number > 50:\n",
    "            print(\"Invalid roll no. Please set correct roll number.\")\n",
    "        else:\n",
    "            self.__roll_no = number\n",
    "            \n",
    "lucy = Student(\"Lucy\",10,15)\n",
    "\n",
    "#before modify\n",
    "lucy.show()\n",
    "\n",
    "#changing roll number using setter\n",
    "lucy.set_roll_no(120)\n",
    "\n",
    "lucy.set_roll_no(25)\n",
    "lucy.show()"
   ]
  }
 ],
 "metadata": {
  "kernelspec": {
   "display_name": "Python 3",
   "language": "python",
   "name": "python3"
  },
  "language_info": {
   "codemirror_mode": {
    "name": "ipython",
    "version": 3
   },
   "file_extension": ".py",
   "mimetype": "text/x-python",
   "name": "python",
   "nbconvert_exporter": "python",
   "pygments_lexer": "ipython3",
   "version": "3.8.8"
  }
 },
 "nbformat": 4,
 "nbformat_minor": 5
}
